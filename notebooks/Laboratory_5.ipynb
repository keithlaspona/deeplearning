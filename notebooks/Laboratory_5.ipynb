{
 "cells": [
  {
   "cell_type": "markdown",
   "id": "972ba699-16a7-419a-9b7f-1fcc9ccec534",
   "metadata": {},
   "source": [
    "## **Laboratory Task 5 - PyTorch Basics**\n",
    "### **DS Elective 4 - Deep Learning**\n",
    "\n",
    "**Name:** Keith Laspoña <br>\n",
    "**Year & Section:** DS4A"
   ]
  },
  {
   "cell_type": "markdown",
   "id": "e36ab7d7-ffdb-4649-bfde-678ddaff7a97",
   "metadata": {},
   "source": [
    "#### **1. Perform Standard Imports**"
   ]
  },
  {
   "cell_type": "code",
   "execution_count": 1,
   "id": "c59db5c6-575a-4841-abd6-d3279b1f4860",
   "metadata": {},
   "outputs": [],
   "source": [
    "import numpy as np\n",
    "import torch\n",
    "import sys\n",
    "import random"
   ]
  },
  {
   "cell_type": "markdown",
   "id": "fd504066-6adb-4d5e-a337-a58f89869220",
   "metadata": {
    "jp-MarkdownHeadingCollapsed": true
   },
   "source": [
    "#### **2. Create a function called `set_seed()` that accepts `seed: int` as a parameter, this function must return nothing but just set the seed to a certain value.**"
   ]
  },
  {
   "cell_type": "code",
   "execution_count": 2,
   "id": "e8406fda-5215-4937-beb3-b0255a88130b",
   "metadata": {},
   "outputs": [],
   "source": [
    "def set_seed(seed:int):\n",
    "    np.random.seed(seed)\n",
    "    torch.manual_seed(seed)"
   ]
  },
  {
   "cell_type": "markdown",
   "id": "a6f533cb-8f07-4d66-a5ce-1d6f8786bb8e",
   "metadata": {},
   "source": [
    "#### **3. Create a NumPy array called \"arr\" that contains 6 random integers between 0 (inclusive) and 5 (exclusive), call the `set_seed()` function and use `42` as the seed parameter.**"
   ]
  },
  {
   "cell_type": "code",
   "execution_count": 3,
   "id": "386d9683-9aec-4456-949f-d3d8a0d84f05",
   "metadata": {},
   "outputs": [
    {
     "name": "stdout",
     "output_type": "stream",
     "text": [
      "[3 4 2 4 4 1]\n",
      "int32\n",
      "<class 'numpy.ndarray'>\n"
     ]
    }
   ],
   "source": [
    "set_seed(42)\n",
    "\n",
    "arr = np.random.randint(0,5, size=6)\n",
    "print(arr)\n",
    "print(arr.dtype)\n",
    "print(type(arr))"
   ]
  },
  {
   "cell_type": "markdown",
   "id": "627e0d5e-640b-4982-aa5d-bbe9e33810b4",
   "metadata": {},
   "source": [
    "#### **4. Create a tensor \"x\" from the array above**"
   ]
  },
  {
   "cell_type": "code",
   "execution_count": 7,
   "id": "05bb7c4c-e0aa-4e1f-9c2e-b6ed51c00b5b",
   "metadata": {},
   "outputs": [
    {
     "name": "stdout",
     "output_type": "stream",
     "text": [
      "tensor([3, 4, 2, 4, 4, 1], dtype=torch.int32)\n"
     ]
    }
   ],
   "source": [
    "x = torch.from_numpy(arr)\n",
    "print(x)"
   ]
  },
  {
   "cell_type": "markdown",
   "id": "3945bb1c-6248-449a-aeb8-50adaf88893a",
   "metadata": {},
   "source": [
    "#### **5. Change the dtype of x from `int32` to `int64`**"
   ]
  },
  {
   "cell_type": "code",
   "execution_count": 9,
   "id": "8bcdafb5-02e4-4f4d-84d9-49e37b7d0b31",
   "metadata": {},
   "outputs": [
    {
     "name": "stdout",
     "output_type": "stream",
     "text": [
      "tensor([3, 4, 2, 4, 4, 1])\n",
      "torch.int64\n"
     ]
    }
   ],
   "source": [
    "x = x.type(torch.int64)\n",
    "print(x)\n",
    "print(x.dtype)"
   ]
  },
  {
   "cell_type": "markdown",
   "id": "9feec150-a4b6-4e31-8b73-e48601ff6551",
   "metadata": {},
   "source": [
    "#### 6. **Reshape `x` into a 3x2 tensor**"
   ]
  },
  {
   "cell_type": "code",
   "execution_count": 10,
   "id": "ae98fc81-bf25-4341-b4c3-6c12a2cf31cc",
   "metadata": {},
   "outputs": [
    {
     "name": "stdout",
     "output_type": "stream",
     "text": [
      "tensor([[3, 4],\n",
      "        [2, 4],\n",
      "        [4, 1]])\n",
      "torch.int64\n"
     ]
    }
   ],
   "source": [
    "x = x.reshape(3, 2)\n",
    "print (x)\n",
    "print (x.dtype)"
   ]
  },
  {
   "cell_type": "markdown",
   "id": "a1151058-5090-4f0f-9233-35c16d2398ef",
   "metadata": {},
   "source": [
    "#### **7. Return the right-hand column of tensor `x`**"
   ]
  },
  {
   "cell_type": "code",
   "execution_count": 11,
   "id": "adb93c15-1b7c-441b-8304-696cbb8760fe",
   "metadata": {},
   "outputs": [
    {
     "data": {
      "text/plain": [
       "tensor([[4],\n",
       "        [4],\n",
       "        [1]])"
      ]
     },
     "execution_count": 11,
     "metadata": {},
     "output_type": "execute_result"
    }
   ],
   "source": [
    "x = x\n",
    "right_hand_col = x[:, 1:]\n",
    "right_hand_col"
   ]
  },
  {
   "cell_type": "markdown",
   "id": "4d63a21d-48ec-4f7b-9cb4-5694ad361d02",
   "metadata": {},
   "source": [
    "#### **8. Without changing x, return a tensor of square values of `x`**\n",
    "There are several ways to do this."
   ]
  },
  {
   "cell_type": "code",
   "execution_count": 12,
   "id": "5a883090-e2e7-4a64-90fd-621e07496595",
   "metadata": {},
   "outputs": [
    {
     "data": {
      "text/plain": [
       "tensor([[ 9, 16],\n",
       "        [ 4, 16],\n",
       "        [16,  1]])"
      ]
     },
     "execution_count": 12,
     "metadata": {},
     "output_type": "execute_result"
    }
   ],
   "source": [
    "x = x\n",
    "square_val = x ** 2\n",
    "square_val"
   ]
  },
  {
   "cell_type": "markdown",
   "id": "987c7af3-94d0-42c2-ba2e-ecaf8fe1533f",
   "metadata": {},
   "source": [
    "#### **9. Create a tensor `y` with the same number of elements as `x`, that can be matrix-multiplied with `x`**\n",
    "\n",
    "Use PyTorch directly (not NumPy) to create a tensor of random integers between 0 (inclusive) and 5 (exclusive). Use 42 as seed. Think about what shape it should have to permit matrix multiplication."
   ]
  },
  {
   "cell_type": "code",
   "execution_count": 16,
   "id": "d653ca90-788f-444a-a0c8-805d6e24691e",
   "metadata": {},
   "outputs": [
    {
     "data": {
      "text/plain": [
       "tensor([[0, 4, 1],\n",
       "        [2, 0, 0]])"
      ]
     },
     "execution_count": 16,
     "metadata": {},
     "output_type": "execute_result"
    }
   ],
   "source": [
    "y = torch.randint(0, 5, (2, 3))\n",
    "set_seed(42)\n",
    "y"
   ]
  },
  {
   "cell_type": "markdown",
   "id": "3ef03b91-97f1-44f1-9290-d251336c8571",
   "metadata": {},
   "source": [
    "#### **10. Find the matrix product of `x` and `y`.**"
   ]
  },
  {
   "cell_type": "code",
   "execution_count": 17,
   "id": "2fc377de-f73c-41b9-bf2f-652515537441",
   "metadata": {},
   "outputs": [
    {
     "data": {
      "text/plain": [
       "tensor([[ 8, 12,  3],\n",
       "        [ 8,  8,  2],\n",
       "        [ 2, 16,  4]])"
      ]
     },
     "execution_count": 17,
     "metadata": {},
     "output_type": "execute_result"
    }
   ],
   "source": [
    "matrix_prod = torch.matmul(x,y)\n",
    "matrix_prod"
   ]
  }
 ],
 "metadata": {
  "kernelspec": {
   "display_name": "deeplearning",
   "language": "python",
   "name": "python3"
  },
  "language_info": {
   "codemirror_mode": {
    "name": "ipython",
    "version": 3
   },
   "file_extension": ".py",
   "mimetype": "text/x-python",
   "name": "python",
   "nbconvert_exporter": "python",
   "pygments_lexer": "ipython3",
   "version": "3.13.5"
  }
 },
 "nbformat": 4,
 "nbformat_minor": 5
}
