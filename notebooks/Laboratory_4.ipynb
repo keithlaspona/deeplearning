{
 "cells": [
  {
   "cell_type": "markdown",
   "id": "972ba699-16a7-419a-9b7f-1fcc9ccec534",
   "metadata": {},
   "source": [
    "## **Laboratory Task 4 - Training Linear Regression Model in PyTorch**\n",
    "#### **DS Elective 4 - Deep Learning**\n",
    "\n",
    "**Name:** Keith Laspoña <br>\n",
    "**Year & Section:** DS4A"
   ]
  },
  {
   "cell_type": "markdown",
   "id": "7e074262",
   "metadata": {},
   "source": [
    "**Instruction:** Train a linear regression model in PyTorch using a regression dataset. Use the following parameters. <br>\n",
    "\n",
    "- Criterion: MSE Loss\n",
    "- Fully Connected Layers x 2\n",
    "- Batch Size: 8\n",
    "- Optimizer: SGD\n",
    "- Epoch: 1000"
   ]
  },
  {
   "cell_type": "markdown",
   "id": "20117ccf",
   "metadata": {},
   "source": [
    "![Lab4](../notebooks/images/lab4.png)"
   ]
  },
  {
   "cell_type": "markdown",
   "id": "4095ce93",
   "metadata": {},
   "source": [
    "#### **1. Import Libraries**"
   ]
  },
  {
   "cell_type": "code",
   "execution_count": 2,
   "id": "4c584e21",
   "metadata": {},
   "outputs": [],
   "source": [
    "import torch\n",
    "import torch.nn as nn\n",
    "import torch.optim as optim\n",
    "from torch.utils.data import DataLoader, TensorDataset\n",
    "from sklearn.datasets import load_diabetes\n",
    "import numpy as np"
   ]
  },
  {
   "cell_type": "markdown",
   "id": "a7824b5b",
   "metadata": {},
   "source": [
    "#### **2. Load Dataset**"
   ]
  },
  {
   "cell_type": "code",
   "execution_count": 3,
   "id": "ec953df8",
   "metadata": {},
   "outputs": [],
   "source": [
    "# Load the diabetes dataset\n",
    "X, y = load_diabetes(return_X_y=True)"
   ]
  },
  {
   "cell_type": "markdown",
   "id": "340faa4a",
   "metadata": {},
   "source": [
    "#### **3. Convert to PyTorch Tensors**"
   ]
  },
  {
   "cell_type": "code",
   "execution_count": 4,
   "id": "f6c772dc",
   "metadata": {},
   "outputs": [],
   "source": [
    "X_tensor = torch.FloatTensor(X)\n",
    "y_tensor = torch.FloatTensor(y)"
   ]
  },
  {
   "cell_type": "markdown",
   "id": "63ebdcd9",
   "metadata": {},
   "source": [
    "#### **4. Create DataLoader with Batch Size 8**"
   ]
  },
  {
   "cell_type": "code",
   "execution_count": 8,
   "id": "dc3bfb4e",
   "metadata": {},
   "outputs": [],
   "source": [
    "dataset = TensorDataset(X_tensor, y_tensor)\n",
    "dataloader = DataLoader(dataset, batch_size=8, shuffle=True)"
   ]
  },
  {
   "cell_type": "markdown",
   "id": "3f2d5fbb",
   "metadata": {},
   "source": [
    "#### **5. Define Model with 2 Fully Connected Layers**"
   ]
  },
  {
   "cell_type": "code",
   "execution_count": 9,
   "id": "5cc74b5a",
   "metadata": {},
   "outputs": [],
   "source": [
    "class LinearRegressionModel(nn.Module):\n",
    "    def __init__(self, input_size):\n",
    "        super(LinearRegressionModel, self).__init__()\n",
    "        self.fc1 = nn.Linear(input_size, 64)  # First FC layer\n",
    "        self.fc2 = nn.Linear(64, 1)           # Second FC layer\n",
    "        \n",
    "    def forward(self, x):\n",
    "        x = torch.relu(self.fc1(x))\n",
    "        x = self.fc2(x)\n",
    "        return x\n",
    "\n",
    "model = LinearRegressionModel(X.shape[1])"
   ]
  },
  {
   "cell_type": "markdown",
   "id": "948f5025",
   "metadata": {},
   "source": [
    "#### **6. Define MSE Loss and SGD Optimizer**"
   ]
  },
  {
   "cell_type": "code",
   "execution_count": 10,
   "id": "165e5935",
   "metadata": {},
   "outputs": [],
   "source": [
    "criterion = nn.MSELoss()\n",
    "optimizer = optim.SGD(model.parameters(), lr=0.01)"
   ]
  },
  {
   "cell_type": "markdown",
   "id": "142a4eb6",
   "metadata": {},
   "source": [
    "#### **7. Train for 1000 Epochs**"
   ]
  },
  {
   "cell_type": "code",
   "execution_count": 13,
   "id": "05a079bd",
   "metadata": {},
   "outputs": [
    {
     "name": "stdout",
     "output_type": "stream",
     "text": [
      "Epoch [100/1000], Loss: 4301.4199\n",
      "Epoch [200/1000], Loss: 18121.5254\n",
      "Epoch [300/1000], Loss: 4472.6016\n",
      "Epoch [400/1000], Loss: 4684.4541\n",
      "Epoch [500/1000], Loss: 1750.1747\n",
      "Epoch [600/1000], Loss: 4209.8623\n",
      "Epoch [700/1000], Loss: 795.7034\n",
      "Epoch [800/1000], Loss: 1026.2750\n",
      "Epoch [900/1000], Loss: 3247.0703\n",
      "Epoch [1000/1000], Loss: 4349.6123\n",
      "Training completed!\n"
     ]
    }
   ],
   "source": [
    "num_epochs = 1000\n",
    "\n",
    "for epoch in range(num_epochs):\n",
    "    for batch_X, batch_y in dataloader:\n",
    "        # Zero gradients\n",
    "        optimizer.zero_grad()\n",
    "        \n",
    "        # Forward pass\n",
    "        outputs = model(batch_X)\n",
    "        loss = criterion(outputs.squeeze(), batch_y)\n",
    "        \n",
    "        # Backward pass and optimize\n",
    "        loss.backward()\n",
    "        optimizer.step()\n",
    "    \n",
    "    # Print progress every 100 epochs\n",
    "    if (epoch + 1) % 100 == 0:\n",
    "        print(f'Epoch [{epoch+1}/{num_epochs}], Loss: {loss.item():.4f}')\n",
    "\n",
    "print(\"Training completed!\")"
   ]
  }
 ],
 "metadata": {
  "kernelspec": {
   "display_name": "deeplearning",
   "language": "python",
   "name": "python3"
  },
  "language_info": {
   "codemirror_mode": {
    "name": "ipython",
    "version": 3
   },
   "file_extension": ".py",
   "mimetype": "text/x-python",
   "name": "python",
   "nbconvert_exporter": "python",
   "pygments_lexer": "ipython3",
   "version": "3.13.5"
  }
 },
 "nbformat": 4,
 "nbformat_minor": 5
}
