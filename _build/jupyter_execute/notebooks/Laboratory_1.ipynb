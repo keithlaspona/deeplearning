{
 "cells": [
  {
   "cell_type": "markdown",
   "id": "972ba699-16a7-419a-9b7f-1fcc9ccec534",
   "metadata": {},
   "source": [
    "## **Laboratory Task 1**\n",
    "#### **DS Elective 4 - Deep Learning**\n",
    "\n",
    "**Name:** Keith Laspoña <br>\n",
    "**Year & Section:** DS4A"
   ]
  },
  {
   "cell_type": "markdown",
   "id": "7e074262",
   "metadata": {},
   "source": [
    "**Instruction:** From the example scenario above, create additional two inquiries for each type of data analytics."
   ]
  },
  {
   "cell_type": "markdown",
   "id": "e8509b65",
   "metadata": {},
   "source": [
    "![Lab1](../notebooks/images/lab1.png)"
   ]
  },
  {
   "cell_type": "markdown",
   "id": "e36ab7d7-ffdb-4649-bfde-678ddaff7a97",
   "metadata": {},
   "source": [
    "#### **1. Descriptive**"
   ]
  },
  {
   "cell_type": "markdown",
   "id": "2ca05297",
   "metadata": {},
   "source": [
    "1. How many vaccine doses have been distributed in the Philippines in the past month?\n",
    "2. What is the current vaccination rate across different regions?"
   ]
  },
  {
   "cell_type": "markdown",
   "id": "fd504066-6adb-4d5e-a337-a58f89869220",
   "metadata": {
    "jp-MarkdownHeadingCollapsed": true
   },
   "source": [
    "#### **2. Diagnostic**"
   ]
  },
  {
   "cell_type": "markdown",
   "id": "966547a9",
   "metadata": {},
   "source": [
    "1. Why did vaccine production slow down in the last quarter?\n",
    "2. What factors contributed to the lower vaccination turnout in rural areas?"
   ]
  },
  {
   "cell_type": "markdown",
   "id": "1233acbc",
   "metadata": {},
   "source": [
    "#### **3. Predictive**"
   ]
  },
  {
   "cell_type": "markdown",
   "id": "2bd68945",
   "metadata": {},
   "source": [
    "1. How many additional vaccine doses will be needed in the next three months?\n",
    "2. What is the projected infection rate if 70% of the population is vaccinated by year-end?"
   ]
  },
  {
   "cell_type": "markdown",
   "id": "627e0d5e-640b-4982-aa5d-bbe9e33810b4",
   "metadata": {},
   "source": [
    "#### **4. Prescriptive**"
   ]
  },
  {
   "cell_type": "markdown",
   "id": "1efab4b9",
   "metadata": {},
   "source": [
    "1. What distribution strategy should be implemented to ensure remote areas receive vaccines on time?\n",
    "2. How should resources be allocated to maximize vaccination coverage while minimizing costs?"
   ]
  }
 ],
 "metadata": {
  "kernelspec": {
   "display_name": "deeplearning",
   "language": "python",
   "name": "python3"
  },
  "language_info": {
   "codemirror_mode": {
    "name": "ipython",
    "version": 3
   },
   "file_extension": ".py",
   "mimetype": "text/x-python",
   "name": "python",
   "nbconvert_exporter": "python",
   "pygments_lexer": "ipython3",
   "version": "3.13.5"
  }
 },
 "nbformat": 4,
 "nbformat_minor": 5
}