{
 "cells": [
  {
   "cell_type": "markdown",
   "id": "972ba699-16a7-419a-9b7f-1fcc9ccec534",
   "metadata": {},
   "source": [
    "## **Laboratory Task 2 - Single Forward Pass and Error Analysis**\n",
    "#### **DS Elective 4 - Deep Learning**\n",
    "\n",
    "**Name:** Keith Laspoña <br>\n",
    "**Year & Section:** DS4A"
   ]
  },
  {
   "cell_type": "markdown",
   "id": "0937dfbd",
   "metadata": {},
   "source": [
    "![](../notebooks/images/lab2.png)"
   ]
  },
  {
   "cell_type": "markdown",
   "id": "e36ab7d7-ffdb-4649-bfde-678ddaff7a97",
   "metadata": {},
   "source": [
    "#### **1. Perform standard imports**"
   ]
  },
  {
   "cell_type": "code",
   "execution_count": 37,
   "id": "c59db5c6-575a-4841-abd6-d3279b1f4860",
   "metadata": {},
   "outputs": [],
   "source": [
    "import numpy as np"
   ]
  },
  {
   "cell_type": "markdown",
   "id": "24ce4c70",
   "metadata": {},
   "source": [
    "#### **2. Define given values**"
   ]
  },
  {
   "cell_type": "code",
   "execution_count": 38,
   "id": "ada0fe19",
   "metadata": {},
   "outputs": [
    {
     "name": "stdout",
     "output_type": "stream",
     "text": [
      "Input: [1 0 1]\n",
      "Actual output: 1\n"
     ]
    }
   ],
   "source": [
    "x = np.array([1, 0, 1])\n",
    "y_actual = 1\n",
    "W_hidden = np.array([[0.2, -0.3], [0.4, 0.1], [-0.5, 0.2]])\n",
    "W_output = np.array([[-0.3], [-0.2]])\n",
    "theta = np.array([-0.4, 0.2, 0.1])\n",
    "learning_rate = 0.9\n",
    "\n",
    "print(f\"Input: {x}\")\n",
    "print(f\"Actual output: {y_actual}\")"
   ]
  },
  {
   "cell_type": "markdown",
   "id": "57fb3e72",
   "metadata": {},
   "source": [
    "#### **3. Calculate hidden layer weighted sums**"
   ]
  },
  {
   "cell_type": "code",
   "execution_count": 39,
   "id": "54fce2db",
   "metadata": {},
   "outputs": [
    {
     "name": "stdout",
     "output_type": "stream",
     "text": [
      "Z1 = -0.7\n",
      "Z2 = 0.10000000000000003\n"
     ]
    }
   ],
   "source": [
    "Z1 = (0.2 * 1) + (0.4 * 0) + (-0.5 * 1) + (-0.4)\n",
    "Z2 = (-0.3 * 1) + (0.1 * 0) + (0.2 * 1) + (0.2)\n",
    "\n",
    "print(f\"Z1 = {Z1}\")\n",
    "print(f\"Z2 = {Z2}\")"
   ]
  },
  {
   "cell_type": "markdown",
   "id": "e06079a9",
   "metadata": {},
   "source": [
    "#### **4. Apply sigmoid activation to hidden layer**"
   ]
  },
  {
   "cell_type": "code",
   "execution_count": 40,
   "id": "837035c6",
   "metadata": {},
   "outputs": [
    {
     "name": "stdout",
     "output_type": "stream",
     "text": [
      "H1 = 0.331812\n",
      "H2 = 0.524979\n"
     ]
    }
   ],
   "source": [
    "def sigmoid(z):\n",
    "    return 1 / (1 + np.exp(-z))\n",
    "\n",
    "H1 = sigmoid(Z1)\n",
    "H2 = sigmoid(Z2)\n",
    "\n",
    "print(f\"H1 = {H1:.6f}\")\n",
    "print(f\"H2 = {H2:.6f}\")"
   ]
  },
  {
   "cell_type": "markdown",
   "id": "02633260",
   "metadata": {},
   "source": [
    "#### **5. Calculate output layer weighted sum**"
   ]
  },
  {
   "cell_type": "code",
   "execution_count": 41,
   "id": "8ef8e50c",
   "metadata": {},
   "outputs": [
    {
     "name": "stdout",
     "output_type": "stream",
     "text": [
      "Z3 = -0.104540\n"
     ]
    }
   ],
   "source": [
    "Z3 = (-0.3 * H1) + (-0.2 * H2) + 0.1\n",
    "\n",
    "print(f\"Z3 = {Z3:.6f}\")"
   ]
  },
  {
   "cell_type": "markdown",
   "id": "d5fbe4f5",
   "metadata": {},
   "source": [
    "#### **6. Apply sigmoid activation to get final output**"
   ]
  },
  {
   "cell_type": "code",
   "execution_count": 42,
   "id": "280c2e58",
   "metadata": {},
   "outputs": [
    {
     "name": "stdout",
     "output_type": "stream",
     "text": [
      "Predicted output: 0.473889\n"
     ]
    }
   ],
   "source": [
    "y_predicted = sigmoid(Z3)\n",
    "print(f\"Predicted output: {y_predicted:.6f}\")"
   ]
  },
  {
   "cell_type": "markdown",
   "id": "f5d2b475",
   "metadata": {},
   "source": [
    "#### **7. Calculate error**"
   ]
  },
  {
   "cell_type": "code",
   "execution_count": 43,
   "id": "81761b39",
   "metadata": {},
   "outputs": [
    {
     "name": "stdout",
     "output_type": "stream",
     "text": [
      "Error = 0.526111\n"
     ]
    }
   ],
   "source": [
    "error = y_actual - y_predicted\n",
    "print(f\"Error = {error:.6f}\")"
   ]
  },
  {
   "cell_type": "markdown",
   "id": "4a046cec",
   "metadata": {},
   "source": [
    "#### **Conclusion**\n",
    "- **Input layer**: 3 neurons (x = [1, 0, 1])\n",
    "- **Hidden layer**: 2 neurons with sigmoid activation\n",
    "- **Output layer**: 1 neuron with sigmoid activation\n",
    "\n",
    "##### **Key Results**\n",
    "- The network predicted an output of **0.473889** when the target was **1.0**\n",
    "- This resulted in an error of **0.526111**, indicating the network needs training to improve its predictions\n",
    "- The sigmoid activation function successfully introduced non-linearity at each layer"
   ]
  }
 ],
 "metadata": {
  "kernelspec": {
   "display_name": "deeplearning",
   "language": "python",
   "name": "python3"
  },
  "language_info": {
   "codemirror_mode": {
    "name": "ipython",
    "version": 3
   },
   "file_extension": ".py",
   "mimetype": "text/x-python",
   "name": "python",
   "nbconvert_exporter": "python",
   "pygments_lexer": "ipython3",
   "version": "3.13.5"
  }
 },
 "nbformat": 4,
 "nbformat_minor": 5
}
